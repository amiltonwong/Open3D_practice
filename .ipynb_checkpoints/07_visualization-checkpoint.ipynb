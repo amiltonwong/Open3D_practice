{
 "cells": [
  {
   "cell_type": "markdown",
   "metadata": {},
   "source": [
    "# Visualization\n",
    "ref: http://www.open3d.org/docs/tutorial/Basic/visualization.html"
   ]
  },
  {
   "cell_type": "code",
   "execution_count": 1,
   "metadata": {},
   "outputs": [],
   "source": [
    "# src/Python/Tutorial/Basic/visualization.py\n",
    "\n",
    "import copy\n",
    "import numpy as np\n",
    "from open3d import *"
   ]
  },
  {
   "cell_type": "markdown",
   "metadata": {},
   "source": [
    "Open3D provides a convenient visualization function draw_geometries which takes a list of geometry objects (PointCloud, TriangleMesh, or Image), and renders them together."
   ]
  },
  {
   "cell_type": "code",
   "execution_count": 4,
   "metadata": {},
   "outputs": [
    {
     "name": "stdout",
     "output_type": "stream",
     "text": [
      "Load a ply point cloud, print it, and render it\n"
     ]
    }
   ],
   "source": [
    "print(\"Load a ply point cloud, print it, and render it\")\n",
    "pcd = read_point_cloud(\"/data/code6/Open3D/build/lib/TestData/fragment.ply\")\n",
    "draw_geometries([pcd])"
   ]
  },
  {
   "cell_type": "markdown",
   "metadata": {},
   "source": [
    "## Store view point\n",
    "use ctrl+c, ctrl+v"
   ]
  },
  {
   "cell_type": "markdown",
   "metadata": {},
   "source": [
    "## Rendering styles\n",
    "Open3D Visualizer supports several rendering styles. For example, pressing l will switch between a Phong lighting and a simple color rendering. Pressing 2 shows points colored based on x-coordinate.\n",
    "\n",
    "The color map can also be adjusted by, for example, pressing shift+4. This changes jet color map to hot color map."
   ]
  },
  {
   "cell_type": "markdown",
   "metadata": {},
   "source": [
    "## Geometry primitives"
   ]
  },
  {
   "cell_type": "code",
   "execution_count": 5,
   "metadata": {},
   "outputs": [
    {
     "name": "stdout",
     "output_type": "stream",
     "text": [
      "Lets draw some primitives\n"
     ]
    }
   ],
   "source": [
    "print('Lets draw some primitives')\n",
    "# generates a sphere \n",
    "mesh_sphere = create_mesh_sphere(radius = 1.0)\n",
    "mesh_sphere.compute_vertex_normals()\n",
    "mesh_sphere.paint_uniform_color([0.1, 0.1, 0.7])\n",
    "# generates a cylinder \n",
    "mesh_cylinder = create_mesh_cylinder(radius = 0.3, height = 4.0)\n",
    "mesh_cylinder.compute_vertex_normals()\n",
    "mesh_cylinder.paint_uniform_color([0.1, 0.9, 0.1])\n",
    "# create a coordinate axis, with its origin point set at (-2, -2, -2)\n",
    "mesh_frame = create_mesh_coordinate_frame(size = 0.6, origin = [-2, -2, -2])"
   ]
  },
  {
   "cell_type": "markdown",
   "metadata": {},
   "source": [
    "## Draw multiple geometries"
   ]
  },
  {
   "cell_type": "code",
   "execution_count": 6,
   "metadata": {},
   "outputs": [
    {
     "name": "stdout",
     "output_type": "stream",
     "text": [
      "We draw a few primitives using collection.\n"
     ]
    }
   ],
   "source": [
    "print(\"We draw a few primitives using collection.\")\n",
    "draw_geometries([mesh_sphere, mesh_cylinder, mesh_frame])  # recommended way"
   ]
  },
  {
   "cell_type": "code",
   "execution_count": 7,
   "metadata": {},
   "outputs": [
    {
     "name": "stdout",
     "output_type": "stream",
     "text": [
      "We draw a few primitives using + operator of mesh.\n"
     ]
    }
   ],
   "source": [
    "print(\"We draw a few primitives using + operator of mesh.\")\n",
    "draw_geometries([mesh_sphere + mesh_cylinder + mesh_frame])"
   ]
  },
  {
   "cell_type": "code",
   "execution_count": null,
   "metadata": {},
   "outputs": [],
   "source": []
  }
 ],
 "metadata": {
  "kernelspec": {
   "display_name": "Python 3",
   "language": "python",
   "name": "python3"
  },
  "language_info": {
   "codemirror_mode": {
    "name": "ipython",
    "version": 3
   },
   "file_extension": ".py",
   "mimetype": "text/x-python",
   "name": "python",
   "nbconvert_exporter": "python",
   "pygments_lexer": "ipython3",
   "version": "3.6.3"
  }
 },
 "nbformat": 4,
 "nbformat_minor": 2
}
