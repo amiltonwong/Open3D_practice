{
 "cells": [
  {
   "cell_type": "markdown",
   "metadata": {},
   "source": [
    "# KDTree\n",
    "ref: http://www.open3d.org/docs/tutorial/Basic/kdtree.html\n",
    "\n",
    "Open3D uses FLANN to build KDTrees for fast retrieval of nearest neighbors."
   ]
  },
  {
   "cell_type": "code",
   "execution_count": 1,
   "metadata": {},
   "outputs": [],
   "source": [
    "# src/Python/Tutorial/Basic/kdtree.py\n",
    "\n",
    "import numpy as np\n",
    "from open3d import *"
   ]
  },
  {
   "cell_type": "markdown",
   "metadata": {},
   "source": [
    "## Build KDTree from point cloud"
   ]
  },
  {
   "cell_type": "code",
   "execution_count": 2,
   "metadata": {},
   "outputs": [
    {
     "name": "stdout",
     "output_type": "stream",
     "text": [
      "Testing kdtree in open3d ...\n",
      "Load a point cloud and paint it gray.\n"
     ]
    }
   ],
   "source": [
    "# This script reads a point cloud (pcd file) and builds a KDTree \"pcd_tree\"\n",
    "print(\"Testing kdtree in open3d ...\")\n",
    "print(\"Load a point cloud and paint it gray.\")\n",
    "pcd = read_point_cloud(\"/data/code6/Open3D/build/lib/TestData/Feature/cloud_bin_0.pcd\")\n",
    "pcd.paint_uniform_color([0.5, 0.5, 0.5])\n",
    "pcd_tree = KDTreeFlann(pcd)"
   ]
  },
  {
   "cell_type": "markdown",
   "metadata": {},
   "source": [
    "## Find neighboring points"
   ]
  },
  {
   "cell_type": "code",
   "execution_count": 3,
   "metadata": {},
   "outputs": [
    {
     "name": "stdout",
     "output_type": "stream",
     "text": [
      "Paint the 1500th point red.\n"
     ]
    }
   ],
   "source": [
    "# pick the 1500-th point as the anchor point and paint it red.\n",
    "print(\"Paint the 1500th point red.\")\n",
    "pcd.colors[1500] = [1, 0, 0]"
   ]
  },
  {
   "cell_type": "code",
   "execution_count": 4,
   "metadata": {},
   "outputs": [],
   "source": [
    "??pcd_tree.search_knn_vector_3d"
   ]
  },
  {
   "cell_type": "markdown",
   "metadata": {},
   "source": [
    "Function `search_knn_vector_3d()` returns a list of indices of the k nearest neighbors of the anchor point."
   ]
  },
  {
   "cell_type": "code",
   "execution_count": 5,
   "metadata": {},
   "outputs": [],
   "source": [
    "[k, idx, _] = pcd_tree.search_knn_vector_3d(query=pcd.points[1500], knn=200)"
   ]
  },
  {
   "cell_type": "code",
   "execution_count": 9,
   "metadata": {},
   "outputs": [
    {
     "data": {
      "text/plain": [
       "IntVector[1500, 716, 3281, 3508, 3021, 2934, 2986, 3024, 2906, 3742, 3003, 2918, 2816, 3515, 2599, 2990, 2933, 3033, 1287, 3647, 3091, 2993, 3124, 2247, 3634, 3115, 2932, 3025, 3005, 3054, 2936, 2991, 3200, 1978, 2926, 3130, 2972, 2741, 1139, 3032, 2871, 3319, 2292, 2001, 2734, 1707, 3052, 3048, 3239, 3018, 3012, 2697, 3150, 634, 147, 578, 2475, 3152, 637, 2946, 2444, 605, 2867, 3257, 2555, 2995, 3070, 1969, 3086, 3084, 3026, 1543, 1921, 3020, 2989, 2199, 2844, 896, 2070, 3151, 2595, 3260, 3202, 2730, 2706, 3210, 2709, 3127, 2838, 1520, 3215, 3067, 565, 3066, 1292, 525, 1415, 1273, 3666, 2922, 627, 2907, 3223, 2694, 2207, 3118, 3004, 1396, 3243, 1990, 1221, 3009, 941, 1328, 2861, 3163, 2174, 1558, 3085, 2955, 2330, 158, 2956, 3155, 1438, 3136, 3177, 2856, 3268, 1303, 3791, 3424, 3238, 3000, 3244, 3173, 3011, 248, 694, 2552, 3820, 2978, 3133, 2461, 1182, 2854, 3392, 3288, 2666, 1104, 3258, 2982, 1032, 2892, 295, 3171, 1572, 2943, 587, 3421, 3065, 2985, 3419, 3489, 3468, 3330, 810, 981, 3090, 3034, 2998, 1542, 3221, 2831, 3361, 1736, 705, 3303, 3418, 3495, 455, 3544, 544, 1877, 2901, 2848, 3518, 3511, 3545, 1942, 3313, 3028, 3383, 3251, 3050, 1142, 2328, 2873, 2902, 3593]"
      ]
     },
     "execution_count": 9,
     "metadata": {},
     "output_type": "execute_result"
    }
   ],
   "source": [
    "idx"
   ]
  },
  {
   "cell_type": "code",
   "execution_count": 14,
   "metadata": {},
   "outputs": [],
   "source": [
    "tmp = np.asarray(pcd.colors)"
   ]
  },
  {
   "cell_type": "code",
   "execution_count": 15,
   "metadata": {},
   "outputs": [
    {
     "data": {
      "text/plain": [
       "(3903, 3)"
      ]
     },
     "execution_count": 15,
     "metadata": {},
     "output_type": "execute_result"
    }
   ],
   "source": [
    "tmp.shape"
   ]
  },
  {
   "cell_type": "code",
   "execution_count": 17,
   "metadata": {},
   "outputs": [
    {
     "data": {
      "text/plain": [
       "array([0.5, 0.5, 0.5])"
      ]
     },
     "execution_count": 17,
     "metadata": {},
     "output_type": "execute_result"
    }
   ],
   "source": [
    "tmp[2]"
   ]
  },
  {
   "cell_type": "markdown",
   "metadata": {},
   "source": [
    "## Using search_knn_vector_3d"
   ]
  },
  {
   "cell_type": "code",
   "execution_count": 18,
   "metadata": {},
   "outputs": [
    {
     "name": "stdout",
     "output_type": "stream",
     "text": [
      "Find its 200 nearest neighbors, paint blue.\n"
     ]
    }
   ],
   "source": [
    "# Using search_knn_vector_3d\n",
    "print(\"Find its 200 nearest neighbors, paint blue.\")\n",
    "# search_knn_vector_3d() returns a list of indices of the k nearest neighbors of the anchor point.\n",
    "[k, idx, _] = pcd_tree.search_knn_vector_3d(query=pcd.points[1500], knn=200)\n",
    "# The neighboring points of the 1500th point are painted with blue color\n",
    "np.asarray(pcd.colors)[idx[1:], :] = [0, 0, 1]"
   ]
  },
  {
   "cell_type": "markdown",
   "metadata": {},
   "source": [
    "Note that we convert pcd.colors to a numpy array to make batch access to the point colors, and broadcast a blue color [0, 0, 1] to all the selected points. We skip the first index since it is the anchor point itself."
   ]
  },
  {
   "cell_type": "code",
   "execution_count": 19,
   "metadata": {},
   "outputs": [],
   "source": [
    "??pcd_tree.search_radius_vector_3d"
   ]
  },
  {
   "cell_type": "markdown",
   "metadata": {},
   "source": [
    "## Using search_radius_vector_3d\n",
    "we can use search_radius_vector_3d to query all points with distances to the anchor point less than a given radius. "
   ]
  },
  {
   "cell_type": "code",
   "execution_count": 20,
   "metadata": {},
   "outputs": [
    {
     "name": "stdout",
     "output_type": "stream",
     "text": [
      "Find its neighbors with distance less than 0.2, paint green.\n"
     ]
    }
   ],
   "source": [
    "print(\"Find its neighbors with distance less than 0.2, paint green.\")\n",
    "[k, idx, _] = pcd_tree.search_radius_vector_3d(query=pcd.points[1500], radius=0.2)\n",
    "np.asarray(pcd.colors)[idx[1:], :] = [0, 1, 0]"
   ]
  },
  {
   "cell_type": "code",
   "execution_count": 21,
   "metadata": {},
   "outputs": [
    {
     "name": "stdout",
     "output_type": "stream",
     "text": [
      "Visualize the point cloud.\n",
      "\n"
     ]
    }
   ],
   "source": [
    "print(\"Visualize the point cloud.\")\n",
    "draw_geometries([pcd])\n",
    "print(\"\")"
   ]
  },
  {
   "cell_type": "markdown",
   "metadata": {},
   "source": [
    "![knn_output](./knn_output.png)"
   ]
  },
  {
   "cell_type": "markdown",
   "metadata": {},
   "source": [
    "Besides the KNN search search_knn_vector_3d and the RNN search search_radius_vector_3d, Open3D provides a hybrid search function search_hybrid_vector_3d. It returns at most k nearest neighbors that have distances to the anchor point less than a given radius. This function combines the criteria of KNN search and RNN search. It is known as RKNN search in some literatures. It has performance benefits in many practical cases, and is heavily used in a number of Open3D functions."
   ]
  },
  {
   "cell_type": "code",
   "execution_count": null,
   "metadata": {},
   "outputs": [],
   "source": []
  }
 ],
 "metadata": {
  "kernelspec": {
   "display_name": "Python 3",
   "language": "python",
   "name": "python3"
  },
  "language_info": {
   "codemirror_mode": {
    "name": "ipython",
    "version": 3
   },
   "file_extension": ".py",
   "mimetype": "text/x-python",
   "name": "python",
   "nbconvert_exporter": "python",
   "pygments_lexer": "ipython3",
   "version": "3.6.3"
  }
 },
 "nbformat": 4,
 "nbformat_minor": 2
}
