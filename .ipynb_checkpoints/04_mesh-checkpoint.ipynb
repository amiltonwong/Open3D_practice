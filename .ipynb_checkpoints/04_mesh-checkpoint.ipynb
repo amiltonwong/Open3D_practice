{
 "cells": [
  {
   "cell_type": "code",
   "execution_count": 2,
   "metadata": {},
   "outputs": [],
   "source": [
    "# src/Python/Tutorial/Basic/mesh.py\n",
    "\n",
    "import numpy as np\n",
    "from open3d import *"
   ]
  },
  {
   "cell_type": "markdown",
   "metadata": {},
   "source": [
    "## Print vertices and triangles"
   ]
  },
  {
   "cell_type": "markdown",
   "metadata": {},
   "source": [
    "The `TriangleMesh` class has a few data fields such as vertices and triangles. Open3D provides direct memory access to these fields via numpy array."
   ]
  },
  {
   "cell_type": "code",
   "execution_count": 4,
   "metadata": {},
   "outputs": [
    {
     "name": "stdout",
     "output_type": "stream",
     "text": [
      "Testing mesh in open3d ...\n",
      "TriangleMesh with 1440 points and 2880 triangles.\n",
      "(1440, 3)\n",
      "(2880, 3)\n"
     ]
    }
   ],
   "source": [
    "print(\"Testing mesh in open3d ...\")\n",
    "mesh = read_triangle_mesh(\"/data/code6/Open3D/build/lib/TestData/knot.ply\")\n",
    "print(mesh)\n",
    "print(np.asarray(mesh.vertices).shape)\n",
    "print(np.asarray(mesh.triangles).shape)"
   ]
  },
  {
   "cell_type": "markdown",
   "metadata": {},
   "source": [
    "## Visualize 3D mesh"
   ]
  },
  {
   "cell_type": "markdown",
   "metadata": {},
   "source": [
    "You can rotate and move the mesh but it is painted with uniform gray color and does not look “3d”. The reason is that the current mesh does not have normals for vertices or faces. So uniform color shading is used instead of a more sophisticated Phong shading."
   ]
  },
  {
   "cell_type": "code",
   "execution_count": 5,
   "metadata": {},
   "outputs": [
    {
     "name": "stdout",
     "output_type": "stream",
     "text": [
      "Try to render a mesh with normals (exist: False) and colors (exist: False)\n",
      "A mesh with no normals and no colors does not seem good.\n"
     ]
    }
   ],
   "source": [
    "print(\"Try to render a mesh with normals (exist: \" +\n",
    "        str(mesh.has_vertex_normals()) +\n",
    "        \") and colors (exist: \" + str(mesh.has_vertex_colors()) + \")\")\n",
    "draw_geometries([mesh])\n",
    "print(\"A mesh with no normals and no colors does not seem good.\")"
   ]
  },
  {
   "cell_type": "markdown",
   "metadata": {},
   "source": [
    "## Surface normal estimation\n",
    "Let’s draw the mesh with surface normal."
   ]
  },
  {
   "cell_type": "markdown",
   "metadata": {},
   "source": [
    "It uses `compute_vertex_normals()` and `paint_uniform_color()` which are member functions of mesh. "
   ]
  },
  {
   "cell_type": "code",
   "execution_count": 12,
   "metadata": {},
   "outputs": [
    {
     "name": "stdout",
     "output_type": "stream",
     "text": [
      "Computing normal and rendering it.\n",
      "(2880, 3)\n"
     ]
    }
   ],
   "source": [
    "print(\"Computing normal and rendering it.\")\n",
    "mesh.compute_vertex_normals()\n",
    "print(np.asarray(mesh.triangle_normals).shape) # each triangle mesh has a normal\n",
    "draw_geometries([mesh])"
   ]
  },
  {
   "cell_type": "code",
   "execution_count": 9,
   "metadata": {},
   "outputs": [],
   "source": [
    "import copy"
   ]
  },
  {
   "cell_type": "markdown",
   "metadata": {},
   "source": [
    "## Crop mesh\n",
    "We remove half of the surface by directly operate on the triangle and triangle_normals data fields of the mesh. This is done via numpy array."
   ]
  },
  {
   "cell_type": "code",
   "execution_count": 14,
   "metadata": {},
   "outputs": [
    {
     "name": "stdout",
     "output_type": "stream",
     "text": [
      "We make a partial mesh of only the first half triangles.\n",
      "std::vector<Eigen::Vector3i> with 1440 elements.\n",
      "Use numpy.asarray() to access data.\n"
     ]
    }
   ],
   "source": [
    "print(\"We make a partial mesh of only the first half triangles.\")\n",
    "mesh1 = copy.deepcopy(mesh)\n",
    "mesh1.triangles = Vector3iVector(\n",
    "        np.asarray(mesh1.triangles)[:len(mesh1.triangles)//2, :])\n",
    "mesh1.triangle_normals = Vector3dVector(\n",
    "        np.asarray(mesh1.triangle_normals)\n",
    "        [:len(mesh1.triangle_normals)//2, :])\n",
    "print(mesh1.triangles)\n",
    "draw_geometries([mesh1])"
   ]
  },
  {
   "cell_type": "markdown",
   "metadata": {},
   "source": [
    "## Paint mesh"
   ]
  },
  {
   "cell_type": "code",
   "execution_count": 11,
   "metadata": {},
   "outputs": [
    {
     "name": "stdout",
     "output_type": "stream",
     "text": [
      "Painting the mesh\n"
     ]
    }
   ],
   "source": [
    "print(\"Painting the mesh\")\n",
    "mesh1.paint_uniform_color([1, 0.706, 0])\n",
    "draw_geometries([mesh1])"
   ]
  },
  {
   "cell_type": "code",
   "execution_count": null,
   "metadata": {},
   "outputs": [],
   "source": []
  }
 ],
 "metadata": {
  "kernelspec": {
   "display_name": "Python 3",
   "language": "python",
   "name": "python3"
  },
  "language_info": {
   "codemirror_mode": {
    "name": "ipython",
    "version": 3
   },
   "file_extension": ".py",
   "mimetype": "text/x-python",
   "name": "python",
   "nbconvert_exporter": "python",
   "pygments_lexer": "ipython3",
   "version": "3.6.3"
  }
 },
 "nbformat": 4,
 "nbformat_minor": 2
}
