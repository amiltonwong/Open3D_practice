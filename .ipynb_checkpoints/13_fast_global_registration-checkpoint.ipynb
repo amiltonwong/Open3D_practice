{
 "cells": [
  {
   "cell_type": "markdown",
   "metadata": {},
   "source": [
    "# Fast global registration\n",
    "\n",
    "ref: http://www.open3d.org/docs/tutorial/Advanced/fast_global_registration.html"
   ]
  },
  {
   "cell_type": "markdown",
   "metadata": {},
   "source": [
    "RANSAC based Global registration solution may take a long time due to countless model proposal and evaluation. [Zhou2016] introduced a faster approach that quickly optimizes line process weights of few correspondences. As there is no model proposal and evaluation involved for each iteration, the approach proposed in [Zhou2016] can save a lot of computational time.\n",
    "\n",
    "This script compares running time of `RANSAC based Global registration` and `implementation of [Zhou2016]`."
   ]
  },
  {
   "cell_type": "code",
   "execution_count": 1,
   "metadata": {},
   "outputs": [],
   "source": [
    "# src/Python/Tutorial/Advanced/fast_global_registration.py\n",
    "\n",
    "from open3d import *\n",
    "from global_registration import *\n",
    "import numpy as np\n",
    "import copy\n",
    "import time"
   ]
  },
  {
   "cell_type": "markdown",
   "metadata": {},
   "source": [
    "## Input\n",
    "For the pair comparison, the script reuses prepare_dataset function defined in Global registration (global_registration.py). It produces a pair of downsampled point clouds as well as FPFH features"
   ]
  },
  {
   "cell_type": "code",
   "execution_count": 2,
   "metadata": {},
   "outputs": [
    {
     "name": "stdout",
     "output_type": "stream",
     "text": [
      ":: Load two point clouds and disturb initial pose.\n",
      ":: Downsample with a voxel size 0.050.\n",
      ":: Estimate normal with search radius 0.100.\n",
      ":: Compute FPFH feature with search radius 0.250.\n",
      ":: Downsample with a voxel size 0.050.\n",
      ":: Estimate normal with search radius 0.100.\n",
      ":: Compute FPFH feature with search radius 0.250.\n"
     ]
    }
   ],
   "source": [
    "voxel_size = 0.05 # means 5cm for the dataset\n",
    "source, target, source_down, target_down, source_fpfh, target_fpfh = \\\n",
    "        prepare_dataset(voxel_size)"
   ]
  },
  {
   "cell_type": "markdown",
   "metadata": {},
   "source": [
    "## Baseline"
   ]
  },
  {
   "cell_type": "code",
   "execution_count": 4,
   "metadata": {},
   "outputs": [
    {
     "name": "stdout",
     "output_type": "stream",
     "text": [
      ":: RANSAC registration on downsampled point clouds.\n",
      "   Since the downsampling voxel size is 0.050,\n",
      "   we use a liberal distance threshold 0.075.\n",
      "RegistrationResult with fitness = 0.676891, inlier_rmse = 0.031067, and correspondence_set size of 3222\n",
      "Access transformation to get result.\n",
      "Global registration took 1.191 sec.\n",
      "\n"
     ]
    }
   ],
   "source": [
    "start = time.time()\n",
    "# calls RANSAC based Global registration as a baseline\n",
    "result_ransac = execute_global_registration(source_down, target_down,\n",
    "        source_fpfh, target_fpfh, voxel_size)\n",
    "print(result_ransac)\n",
    "print(\"Global registration took %.3f sec.\\n\" % (time.time() - start))\n",
    "draw_registration_result(source_down, target_down,\n",
    "        result_ransac.transformation)"
   ]
  },
  {
   "cell_type": "markdown",
   "metadata": {},
   "source": [
    "<img style=\"float: left;\" src=\"ransac_global_t13.png\">"
   ]
  },
  {
   "cell_type": "markdown",
   "metadata": {},
   "source": [
    "## Fast global registration\n",
    "\n",
    "With the same input used for baseline, the next script calls the implementation of [Zhou2016]."
   ]
  },
  {
   "cell_type": "markdown",
   "metadata": {},
   "source": [
    "With proper configuration, the accuracy of fast global registration is even comparable with ICP. Please refer [Zhou2016] for more experimental results."
   ]
  },
  {
   "cell_type": "code",
   "execution_count": 5,
   "metadata": {},
   "outputs": [],
   "source": [
    "def execute_fast_global_registration(source_down, target_down,\n",
    "        source_fpfh, target_fpfh, voxel_size):\n",
    "    distance_threshold = voxel_size * 0.5\n",
    "    print(\":: Apply fast global registration with distance threshold %.3f\" \\\n",
    "            % distance_threshold)\n",
    "    result = registration_fast_based_on_feature_matching(\n",
    "            source_down, target_down, source_fpfh, target_fpfh,\n",
    "            FastGlobalRegistrationOption(\n",
    "            maximum_correspondence_distance = distance_threshold))\n",
    "    return result"
   ]
  },
  {
   "cell_type": "code",
   "execution_count": 9,
   "metadata": {},
   "outputs": [
    {
     "name": "stdout",
     "output_type": "stream",
     "text": [
      ":: Apply fast global registration with distance threshold 0.025\n",
      "RegistrationResult with fitness = 0.000000, inlier_rmse = 0.000000, and correspondence_set size of 0\n",
      "Access transformation to get result.\n",
      "Fast global registration took 0.177 sec.\n",
      "\n"
     ]
    }
   ],
   "source": [
    "start = time.time()\n",
    "result_fast = execute_fast_global_registration(source_down, target_down,\n",
    "        source_fpfh, target_fpfh, voxel_size)\n",
    "print(result_fast)                                               \n",
    "print(\"Fast global registration took %.3f sec.\\n\" % (time.time() - start))\n",
    "draw_registration_result(source_down, target_down,\n",
    "        result_fast.transformation)"
   ]
  },
  {
   "cell_type": "markdown",
   "metadata": {},
   "source": [
    "<img style=\"float: left;\" src=\"fast_global_t13.png\">"
   ]
  }
 ],
 "metadata": {
  "kernelspec": {
   "display_name": "Python 3",
   "language": "python",
   "name": "python3"
  },
  "language_info": {
   "codemirror_mode": {
    "name": "ipython",
    "version": 3
   },
   "file_extension": ".py",
   "mimetype": "text/x-python",
   "name": "python",
   "nbconvert_exporter": "python",
   "pygments_lexer": "ipython3",
   "version": "3.6.3"
  }
 },
 "nbformat": 4,
 "nbformat_minor": 2
}
