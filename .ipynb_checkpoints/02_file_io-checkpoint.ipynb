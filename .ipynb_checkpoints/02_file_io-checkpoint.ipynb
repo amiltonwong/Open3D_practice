{
 "cells": [
  {
   "cell_type": "markdown",
   "metadata": {},
   "source": [
    "ref: http://www.open3d.org/docs/tutorial/Basic/file_io.html\n",
    "\n",
    "This tutorial shows how basic geometries are read and written by Open3D."
   ]
  },
  {
   "cell_type": "code",
   "execution_count": 1,
   "metadata": {},
   "outputs": [
    {
     "name": "stdout",
     "output_type": "stream",
     "text": [
      "Testing IO for point cloud ...\n",
      "PointCloud with 113662 points.\n",
      "Testing IO for meshes ...\n",
      "TriangleMesh with 1440 points and 2880 triangles.\n",
      "Testing IO for images ...\n",
      "Image of size 512x512, with 3 channels.\n",
      "Use numpy.asarray to access buffer data.\n"
     ]
    },
    {
     "data": {
      "text/plain": [
       "True"
      ]
     },
     "execution_count": 1,
     "metadata": {},
     "output_type": "execute_result"
    }
   ],
   "source": [
    "# src/Python/Tutorial/Basic/io.py\n",
    "\n",
    "from open3d import *\n",
    "\n",
    "print(\"Testing IO for point cloud ...\")\n",
    "pcd = read_point_cloud(\"/data/code6/Open3D/build/lib/TestData/fragment.pcd\")\n",
    "print(pcd) # print() function can be used for displaying a summary of pcd\n",
    "write_point_cloud(\"copy_of_fragment.pcd\", pcd)\n",
    "\n",
    "print(\"Testing IO for meshes ...\")\n",
    "mesh = read_triangle_mesh(\"/data/code6/Open3D/build/lib/TestData/knot.ply\")\n",
    "print(mesh)\n",
    "write_triangle_mesh(\"copy_of_knot.ply\", mesh)\n",
    "\n",
    "print(\"Testing IO for images ...\")\n",
    "img = read_image(\"/data/code6/Open3D/build/lib/TestData/lena_color.jpg\")\n",
    "print(img)\n",
    "write_image(\"copy_of_lena_color.jpg\", img)"
   ]
  },
  {
   "cell_type": "code",
   "execution_count": null,
   "metadata": {},
   "outputs": [],
   "source": []
  }
 ],
 "metadata": {
  "kernelspec": {
   "display_name": "Python 3",
   "language": "python",
   "name": "python3"
  },
  "language_info": {
   "codemirror_mode": {
    "name": "ipython",
    "version": 3
   },
   "file_extension": ".py",
   "mimetype": "text/x-python",
   "name": "python",
   "nbconvert_exporter": "python",
   "pygments_lexer": "ipython3",
   "version": "3.6.3"
  }
 },
 "nbformat": 4,
 "nbformat_minor": 2
}
