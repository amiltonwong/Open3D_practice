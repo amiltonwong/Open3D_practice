{
 "cells": [
  {
   "cell_type": "markdown",
   "metadata": {},
   "source": [
    "# RGBD integration\n",
    "ref:http://www.open3d.org/docs/tutorial/Advanced/rgbd_integration.html\n",
    "\n",
    "Open3D implements a scalable RGBD image integration algorithm. The algorithm is based on the technique presented in [Curless1996] and [Newcombe2011]. In order to support large scenes, we use a hierarchical hashing structure introduced in Integrater in ElasticReconstruction.\n",
    "\n"
   ]
  },
  {
   "cell_type": "code",
   "execution_count": 2,
   "metadata": {},
   "outputs": [],
   "source": [
    "# src/Python/Tutorial/Advanced/rgbd_integration.py\n",
    "\n",
    "from open3d import *\n",
    "from trajectory_io import *\n",
    "import numpy as np"
   ]
  },
  {
   "cell_type": "markdown",
   "metadata": {},
   "source": [
    "## Read trajectory from .log file\n",
    "uses function read_trajectory to read a camera trajectory from a .log file. "
   ]
  },
  {
   "cell_type": "code",
   "execution_count": 3,
   "metadata": {},
   "outputs": [],
   "source": [
    "camera_poses = read_trajectory(\"/data/code6/Open3D/build/lib/TestData/RGBD/odometry.log\")"
   ]
  },
  {
   "cell_type": "code",
   "execution_count": 5,
   "metadata": {},
   "outputs": [
    {
     "data": {
      "text/plain": [
       "(list, 5)"
      ]
     },
     "execution_count": 5,
     "metadata": {},
     "output_type": "execute_result"
    }
   ],
   "source": [
    "type(camera_poses), len(camera_poses)"
   ]
  },
  {
   "cell_type": "code",
   "execution_count": null,
   "metadata": {},
   "outputs": [],
   "source": [
    "# five poses, five images (RGB+depth)"
   ]
  },
  {
   "cell_type": "markdown",
   "metadata": {},
   "source": [
    "## TSDF volume integration"
   ]
  },
  {
   "cell_type": "markdown",
   "metadata": {},
   "source": [
    "Open3D provides two types of TSDF volumes: <b>UniformTSDFVolume</b> and <b>ScalableTSDFVolume</b>. The latter is recommended since it uses a hierarchical structure and thus supports larger scenes."
   ]
  },
  {
   "cell_type": "code",
   "execution_count": 8,
   "metadata": {},
   "outputs": [],
   "source": [
    "??ScalableTSDFVolume"
   ]
  },
  {
   "cell_type": "code",
   "execution_count": 7,
   "metadata": {},
   "outputs": [
    {
     "name": "stdout",
     "output_type": "stream",
     "text": [
      "Integrate 0-th image into the volume.\n",
      "Integrate 1-th image into the volume.\n",
      "Integrate 2-th image into the volume.\n",
      "Integrate 3-th image into the volume.\n",
      "Integrate 4-th image into the volume.\n"
     ]
    }
   ],
   "source": [
    "# voxel_length: Lowering this value makes a high-resolution TSDF volume, \n",
    "# but the integration result can be susceptible to depth noise.\n",
    "volume = ScalableTSDFVolume(voxel_length = 4.0 / 512.0,#=7.8125mm \n",
    "        sdf_trunc = 0.04, # truncation value for signed distance function (SDF)\n",
    "        with_color = True)\n",
    "\n",
    "for i in range(len(camera_poses)):\n",
    "    print(\"Integrate {:d}-th image into the volume.\".format(i))\n",
    "    color = read_image(\"/data/code6/Open3D/build/lib/TestData/RGBD/color/{:05d}.jpg\".format(i))\n",
    "    depth = read_image(\"/data/code6/Open3D/build/lib/TestData/RGBD/depth/{:05d}.png\".format(i))\n",
    "    rgbd = create_rgbd_image_from_color_and_depth(color, depth,\n",
    "            depth_trunc = 4.0, convert_rgb_to_intensity = False)\n",
    "    volume.integrate(rgbd, PinholeCameraIntrinsic(\n",
    "            PinholeCameraIntrinsicParameters.PrimeSenseDefault),\n",
    "            np.linalg.inv(camera_poses[i].pose))"
   ]
  },
  {
   "cell_type": "markdown",
   "metadata": {},
   "source": [
    "## Extract a mesh\n",
    "Mesh extraction uses the marching cubes algorithm [LorensenAndCline1987]."
   ]
  },
  {
   "cell_type": "code",
   "execution_count": null,
   "metadata": {},
   "outputs": [],
   "source": [
    "print(\"Extract a triangle mesh from the volume and visualize it.\")\n",
    "mesh = volume.extract_triangle_mesh()\n",
    "mesh.compute_vertex_normals()\n",
    "draw_geometries([mesh])"
   ]
  },
  {
   "cell_type": "code",
   "execution_count": null,
   "metadata": {},
   "outputs": [],
   "source": []
  }
 ],
 "metadata": {
  "kernelspec": {
   "display_name": "Python 3",
   "language": "python",
   "name": "python3"
  },
  "language_info": {
   "codemirror_mode": {
    "name": "ipython",
    "version": 3
   },
   "file_extension": ".py",
   "mimetype": "text/x-python",
   "name": "python",
   "nbconvert_exporter": "python",
   "pygments_lexer": "ipython3",
   "version": "3.6.3"
  }
 },
 "nbformat": 4,
 "nbformat_minor": 2
}
