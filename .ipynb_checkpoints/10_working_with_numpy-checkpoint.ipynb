{
 "cells": [
  {
   "cell_type": "markdown",
   "metadata": {},
   "source": [
    "# Working with NumPy\n",
    "http://www.open3d.org/docs/tutorial/Basic/working_with_numpy.html"
   ]
  },
  {
   "cell_type": "markdown",
   "metadata": {},
   "source": [
    "Data structure of Open3D is natively compatible with NumPy buffer. The following tutorial generates a variant of sync function using NumPy and visualizes the function using Open3D."
   ]
  },
  {
   "cell_type": "code",
   "execution_count": 2,
   "metadata": {},
   "outputs": [],
   "source": [
    "# src/Python/Tutorial/Basic/working_with_numpy.py\n",
    "\n",
    "import copy\n",
    "import numpy as np\n",
    "from open3d import *"
   ]
  },
  {
   "cell_type": "markdown",
   "metadata": {},
   "source": [
    "## From NumPy to Open3D"
   ]
  },
  {
   "cell_type": "code",
   "execution_count": 3,
   "metadata": {},
   "outputs": [
    {
     "name": "stdout",
     "output_type": "stream",
     "text": [
      "xyz\n",
      "[[-3.00000000e+00 -3.00000000e+00 -3.89817183e-17]\n",
      " [-2.98500000e+00 -3.00000000e+00 -4.94631078e-03]\n",
      " [-2.97000000e+00 -3.00000000e+00 -9.52804798e-03]\n",
      " ...\n",
      " [ 2.97000000e+00  3.00000000e+00 -9.52804798e-03]\n",
      " [ 2.98500000e+00  3.00000000e+00 -4.94631078e-03]\n",
      " [ 3.00000000e+00  3.00000000e+00 -3.89817183e-17]]\n"
     ]
    }
   ],
   "source": [
    "# generate some neat n times 3 matrix using a variant of sync function\n",
    "x = np.linspace(-3, 3, 401)\n",
    "mesh_x, mesh_y = np.meshgrid(x,x)\n",
    "z = np.sinc((np.power(mesh_x,2)+np.power(mesh_y,2)))\n",
    "xyz = np.zeros((np.size(mesh_x),3))\n",
    "xyz[:,0] = np.reshape(mesh_x,-1)\n",
    "xyz[:,1] = np.reshape(mesh_y,-1)\n",
    "xyz[:,2] = np.reshape(z,-1)\n",
    "print('xyz')\n",
    "print(xyz)"
   ]
  },
  {
   "cell_type": "code",
   "execution_count": 4,
   "metadata": {},
   "outputs": [
    {
     "data": {
      "text/plain": [
       "True"
      ]
     },
     "execution_count": 4,
     "metadata": {},
     "output_type": "execute_result"
    }
   ],
   "source": [
    "# Pass xyz to Open3D.PointCloud and visualize\n",
    "pcd = PointCloud()\n",
    "pcd.points = Vector3dVector(xyz)\n",
    "write_point_cloud(\"/data/code6/Open3D/build/lib/TestData/sync.ply\", pcd)"
   ]
  },
  {
   "cell_type": "code",
   "execution_count": null,
   "metadata": {},
   "outputs": [],
   "source": [
    "# Load saved point cloud and transform it into NumPy array"
   ]
  },
  {
   "cell_type": "markdown",
   "metadata": {},
   "source": [
    "pcd_load = read_point_cloud(\"/data/code6/Open3D/build/lib/TestData/sync.ply\")\n",
    "xyz_load = np.asarray(pcd_load.points)\n",
    "print('xyz_load')"
   ]
  },
  {
   "cell_type": "markdown",
   "metadata": {},
   "source": [
    "print(xyz_load)\n",
    "\n",
    "# visualization\n",
    "draw_geometries([pcd_load])\n",
    "\n",
    "## From Open3D to NumPy"
   ]
  },
  {
   "cell_type": "code",
   "execution_count": null,
   "metadata": {},
   "outputs": [],
   "source": [
    "# Load saved point cloud and transform it into NumPy array\n",
    "pcd_load = read_point_cloud(\"../../TestData/sync.ply\")\n",
    "xyz_load = np.asarray(pcd_load.points)\n",
    "print('xyz_load')\n",
    "print(xyz_load)\n",
    "\n",
    "# visualization\n",
    "draw_geometries([pcd_load])"
   ]
  }
 ],
 "metadata": {
  "kernelspec": {
   "display_name": "Python 3",
   "language": "python",
   "name": "python3"
  },
  "language_info": {
   "codemirror_mode": {
    "name": "ipython",
    "version": 3
   },
   "file_extension": ".py",
   "mimetype": "text/x-python",
   "name": "python",
   "nbconvert_exporter": "python",
   "pygments_lexer": "ipython3",
   "version": "3.6.3"
  }
 },
 "nbformat": 4,
 "nbformat_minor": 2
}
