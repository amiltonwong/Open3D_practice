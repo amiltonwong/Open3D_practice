{
 "cells": [
  {
   "cell_type": "markdown",
   "metadata": {},
   "source": [
    "# System overview\n",
    "ref: http://www.open3d.org/docs/tutorial/ReconstructionSystem/system_overview.html"
   ]
  },
  {
   "cell_type": "markdown",
   "metadata": {},
   "source": [
    "1. Make fragments (local geometric surfaces)\n",
    " -  build local geometric surfaces (referred to as fragments) from short subsequences of the input RGBD sequence\n",
    "2. Register fragments\n",
    " - the fragments are aligned in a global space. \n",
    "3. Integrate scene\n",
    " - integrate RGB-D images to generate a mesh model for the scene."
   ]
  },
  {
   "cell_type": "markdown",
   "metadata": {},
   "source": [
    "## Example dataset\n",
    "use the SceneNN dataset\n",
    "\n",
    "The tutorial uses the 016 sequence from the SceneNN dataset. "
   ]
  },
  {
   "cell_type": "code",
   "execution_count": null,
   "metadata": {},
   "outputs": [],
   "source": [
    "# Download 016 sequence of SceneNN dataset\n",
    "# https://drive.google.com/open?id=11U8jEDYKvB5lXsK3L1rQcGTjp0YmRrzT"
   ]
  },
  {
   "cell_type": "markdown",
   "metadata": {},
   "source": [
    "## Quick start"
   ]
  },
  {
   "cell_type": "markdown",
   "metadata": {},
   "source": [
    "Put all color images in the image folder, and all depth images in the depth folder. Run following commands from the root folder.\n",
    "\n",
    "/data2/SceneNN_dataset/016/depth\n",
    "\n",
    "/data2/SceneNN_dataset/016/image"
   ]
  },
  {
   "cell_type": "markdown",
   "metadata": {},
   "source": [
    "cd <your_path_to_open3d_lib>/Tutorial/ReconstructionSystem/\n",
    "\n",
    "$ cd /data/code6/Open3D_practice/ReconstructionSystem\n",
    "\n",
    "python make_fragments.py [path_to_dataset] [-path_intrinsic (optional)]\n",
    "\n",
    "python register_fragments.py [path_to_dataset]\n",
    "\n",
    "python integrate_scene.py [path_to_dataset] [-path_intrinsic (optional)]"
   ]
  },
  {
   "cell_type": "code",
   "execution_count": null,
   "metadata": {},
   "outputs": [],
   "source": []
  }
 ],
 "metadata": {
  "kernelspec": {
   "display_name": "Python 3",
   "language": "python",
   "name": "python3"
  },
  "language_info": {
   "codemirror_mode": {
    "name": "ipython",
    "version": 3
   },
   "file_extension": ".py",
   "mimetype": "text/x-python",
   "name": "python",
   "nbconvert_exporter": "python",
   "pygments_lexer": "ipython3",
   "version": "3.6.3"
  }
 },
 "nbformat": 4,
 "nbformat_minor": 2
}
