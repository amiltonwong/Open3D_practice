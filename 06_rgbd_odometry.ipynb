{
 "cells": [
  {
   "cell_type": "markdown",
   "metadata": {},
   "source": [
    "# Two-Views RGBD Odometry"
   ]
  },
  {
   "cell_type": "markdown",
   "metadata": {},
   "source": [
    "ref: http://www.open3d.org/docs/tutorial/Basic/rgbd_odometry.html\n",
    "\n",
    "An RGBD odometry finds the camera movement between two consecutive RGBD image pairs. The input are two instances of RGBDImage. The output is the motion in the form of a rigid body transformation. Open3D has implemented two RGBD odometries: [Steinbrucker2011] and [Park2017]."
   ]
  },
  {
   "cell_type": "code",
   "execution_count": 3,
   "metadata": {},
   "outputs": [],
   "source": [
    "# src/Python/Tutorial/Basic/rgbd_odometry.rst\n",
    "\n",
    "from open3d import *\n",
    "import numpy as np"
   ]
  },
  {
   "cell_type": "markdown",
   "metadata": {},
   "source": [
    "## Read camera intrinsic\n",
    "We first read the camera intrinsic matrix from a json file."
   ]
  },
  {
   "cell_type": "code",
   "execution_count": 4,
   "metadata": {},
   "outputs": [
    {
     "name": "stdout",
     "output_type": "stream",
     "text": [
      "[[415.69219382   0.         319.5       ]\n",
      " [  0.         415.69219382 239.5       ]\n",
      " [  0.           0.           1.        ]]\n"
     ]
    }
   ],
   "source": [
    "pinhole_camera_intrinsic = read_pinhole_camera_intrinsic(\n",
    "        \"/data/code6/Open3D/build/lib/TestData/camera.json\")\n",
    "print(pinhole_camera_intrinsic.intrinsic_matrix)"
   ]
  },
  {
   "cell_type": "markdown",
   "metadata": {},
   "source": [
    "## Read RGBD image\n",
    "reads two pairs of RGBD images in the Redwood format"
   ]
  },
  {
   "cell_type": "code",
   "execution_count": 6,
   "metadata": {},
   "outputs": [],
   "source": [
    "source_color = read_image(\"/data/code6/Open3D/build/lib/TestData/RGBD/color/00000.jpg\")\n",
    "source_depth = read_image(\"/data/code6/Open3D/build/lib/TestData/RGBD/depth/00000.png\")\n",
    "target_color = read_image(\"/data/code6/Open3D/build/lib/TestData/RGBD/color/00001.jpg\")\n",
    "target_depth = read_image(\"/data/code6/Open3D/build/lib/TestData/RGBD/depth/00001.png\")\n",
    "source_rgbd_image = create_rgbd_image_from_color_and_depth(\n",
    "        source_color, source_depth);\n",
    "target_rgbd_image = create_rgbd_image_from_color_and_depth(\n",
    "        target_color, target_depth);"
   ]
  },
  {
   "cell_type": "code",
   "execution_count": 7,
   "metadata": {},
   "outputs": [],
   "source": [
    "target_pcd = create_point_cloud_from_rgbd_image(\n",
    "        target_rgbd_image, pinhole_camera_intrinsic)"
   ]
  },
  {
   "cell_type": "code",
   "execution_count": 8,
   "metadata": {},
   "outputs": [
    {
     "name": "stdout",
     "output_type": "stream",
     "text": [
      "OdometryOption class.\n",
      "minimum_correspondence_ratio = 0.100000\n",
      "iteration_number_per_pyramid_level = [ 20, 10, 5, ] \n",
      "max_depth_diff = 0.030000\n",
      "min_depth = 0.000000\n",
      "max_depth = 4.000000\n"
     ]
    }
   ],
   "source": [
    "option = OdometryOption()\n",
    "odo_init = np.identity(4) # identity matrix for intial odometry\n",
    "print(option)"
   ]
  },
  {
   "cell_type": "code",
   "execution_count": 9,
   "metadata": {},
   "outputs": [
    {
     "data": {
      "text/plain": [
       "array([[1., 0., 0., 0.],\n",
       "       [0., 1., 0., 0.],\n",
       "       [0., 0., 1., 0.],\n",
       "       [0., 0., 0., 1.]])"
      ]
     },
     "execution_count": 9,
     "metadata": {},
     "output_type": "execute_result"
    }
   ],
   "source": [
    "odo_init"
   ]
  },
  {
   "cell_type": "markdown",
   "metadata": {},
   "source": [
    "## Compute odometry from two RGBD image pairs"
   ]
  },
  {
   "cell_type": "code",
   "execution_count": 10,
   "metadata": {},
   "outputs": [],
   "source": [
    "# [Steinbrucker2011] odometry method\n",
    "# minimizes photo consistency of aligned images.\n",
    "[success_color_term, trans_color_term, info] = compute_rgbd_odometry(\n",
    "        source_rgbd_image, target_rgbd_image,\n",
    "        pinhole_camera_intrinsic, odo_init,\n",
    "        RGBDOdometryJacobianFromColorTerm(), option)"
   ]
  },
  {
   "cell_type": "code",
   "execution_count": 11,
   "metadata": {},
   "outputs": [],
   "source": [
    "# [Park2017] odometry method\n",
    "# in addition to photo consistency, it implements constraint for geometry\n",
    "[success_hybrid_term, trans_hybrid_term, info] = compute_rgbd_odometry(\n",
    "        source_rgbd_image, target_rgbd_image,\n",
    "        pinhole_camera_intrinsic, odo_init,\n",
    "        RGBDOdometryJacobianFromHybridTerm(), option)"
   ]
  },
  {
   "cell_type": "code",
   "execution_count": 12,
   "metadata": {},
   "outputs": [
    {
     "name": "stdout",
     "output_type": "stream",
     "text": [
      "Using RGB-D Odometry\n",
      "[[ 9.99985161e-01 -2.24233601e-04 -5.44316453e-03 -4.82515882e-04]\n",
      " [ 1.46064327e-04  9.99896920e-01 -1.43571495e-02  2.89043658e-02]\n",
      " [ 5.44582281e-03  1.43561414e-02  9.99882115e-01  7.88078866e-04]\n",
      " [ 0.00000000e+00  0.00000000e+00  0.00000000e+00  1.00000000e+00]]\n"
     ]
    }
   ],
   "source": [
    "if success_color_term:\n",
    "    print(\"Using RGB-D Odometry\")\n",
    "    print(trans_color_term)\n",
    "    source_pcd_color_term = create_point_cloud_from_rgbd_image(\n",
    "            source_rgbd_image, pinhole_camera_intrinsic)\n",
    "    source_pcd_color_term.transform(trans_color_term)\n",
    "    draw_geometries([target_pcd, source_pcd_color_term])"
   ]
  },
  {
   "cell_type": "code",
   "execution_count": 15,
   "metadata": {},
   "outputs": [
    {
     "name": "stdout",
     "output_type": "stream",
     "text": [
      "Using Hybrid RGB-D Odometry\n",
      "[[ 9.99994666e-01 -1.00290832e-03 -3.10826679e-03 -3.75410519e-03]\n",
      " [ 9.64494137e-04  9.99923448e-01 -1.23356688e-02  2.54977515e-02]\n",
      " [ 3.12040039e-03  1.23326051e-02  9.99919082e-01  1.88139777e-03]\n",
      " [ 0.00000000e+00  0.00000000e+00  0.00000000e+00  1.00000000e+00]]\n"
     ]
    }
   ],
   "source": [
    "if success_hybrid_term:\n",
    "    print(\"Using Hybrid RGB-D Odometry\")\n",
    "    print(trans_hybrid_term)\n",
    "    source_pcd_hybrid_term = create_point_cloud_from_rgbd_image(\n",
    "            source_rgbd_image, pinhole_camera_intrinsic)\n",
    "    source_pcd_hybrid_term.transform(trans_hybrid_term)\n",
    "    draw_geometries([target_pcd, source_pcd_hybrid_term])"
   ]
  },
  {
   "cell_type": "code",
   "execution_count": null,
   "metadata": {},
   "outputs": [],
   "source": []
  }
 ],
 "metadata": {
  "kernelspec": {
   "display_name": "Python 3",
   "language": "python",
   "name": "python3"
  },
  "language_info": {
   "codemirror_mode": {
    "name": "ipython",
    "version": 3
   },
   "file_extension": ".py",
   "mimetype": "text/x-python",
   "name": "python",
   "nbconvert_exporter": "python",
   "pygments_lexer": "ipython3",
   "version": "3.6.3"
  }
 },
 "nbformat": 4,
 "nbformat_minor": 2
}
